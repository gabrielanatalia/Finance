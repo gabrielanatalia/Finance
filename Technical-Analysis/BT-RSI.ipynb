{
 "cells": [
  {
   "cell_type": "markdown",
   "metadata": {},
   "source": [
    "# Relative Strength Index "
   ]
  },
  {
   "cell_type": "markdown",
   "metadata": {},
   "source": [
    "The RSI is an indicator that uses the closing prices of an asset to identify oversold/overbought conditions. Most commonly, the RSI is calculated using a 14-day\n",
    "period, and it is measured on a scale from 0 to 100 (it is an oscillator). Traders usually buy an asset when it is oversold (if the RSI is below 30), and sell when it is overbought (if the\n",
    "RSI is above 70). More extreme high/low levels, such as 80-20, are used less frequently and, at the same time, imply stronger momentum."
   ]
  },
  {
   "cell_type": "markdown",
   "metadata": {},
   "source": [
    "1. We can go long and short.\n",
    "2. For calculating the RSI, we use 14 periods (trading days).\n",
    "3. Enter a long position if the RSI crosses the lower threshold (standard value of 30) upwards; exit the position when the RSI becomes larger than the middle level (value of 50).\n",
    "4. Enter a short position if the RSI crosses the upper threshold (standard value of 70) downwards; exit the position when the RSI becomes smaller than 50.\n",
    "5. Only one position can be open at a time."
   ]
  },
  {
   "cell_type": "code",
   "execution_count": 6,
   "metadata": {},
   "outputs": [],
   "source": [
    "from datetime import datetime\n",
    "import backtrader as bt\n",
    "import yfinance as yf\n",
    "%matplotlib inline"
   ]
  },
  {
   "cell_type": "code",
   "execution_count": 2,
   "metadata": {},
   "outputs": [],
   "source": [
    "# create a Stratey\n",
    "class RsiSignalStrategy(bt.SignalStrategy):\n",
    "    params = dict(rsi_periods=14, rsi_upper=70, \n",
    "                  rsi_lower=30, rsi_mid=50)\n",
    "\n",
    "    def __init__(self):\n",
    "        \n",
    "        # add RSI indicator\n",
    "        rsi = bt.indicators.RSI(period=self.p.rsi_periods,\n",
    "                                upperband=self.p.rsi_upper,\n",
    "                                lowerband=self.p.rsi_lower)\n",
    "\n",
    "        # add RSI from TA-lib just for reference \n",
    "        bt.talib.RSI(self.data, plotname='TA_RSI')\n",
    "    \n",
    "        # long condition (with exit)\n",
    "        rsi_signal_long = bt.ind.CrossUp(rsi, self.p.rsi_lower, plot=False)\n",
    "        self.signal_add(bt.SIGNAL_LONG, rsi_signal_long)\n",
    "        self.signal_add(bt.SIGNAL_LONGEXIT, -(rsi > self.p.rsi_mid))\n",
    "\n",
    "        # short condition (with exit)\n",
    "        rsi_signal_short = -bt.ind.CrossDown(rsi, self.p.rsi_upper, plot=False)\n",
    "        self.signal_add(bt.SIGNAL_SHORT, rsi_signal_short)\n",
    "        self.signal_add(bt.SIGNAL_SHORTEXIT, rsi < self.p.rsi_mid)"
   ]
  },
  {
   "cell_type": "code",
   "execution_count": 3,
   "metadata": {},
   "outputs": [
    {
     "name": "stdout",
     "output_type": "stream",
     "text": [
      "[*********************100%***********************]  1 of 1 completed\n"
     ]
    }
   ],
   "source": [
    "data = bt.feeds.PandasData(dataname=yf.download('META', '2018-01-01', '2018-12-31'))"
   ]
  },
  {
   "cell_type": "code",
   "execution_count": 4,
   "metadata": {},
   "outputs": [
    {
     "ename": "AttributeError",
     "evalue": "module 'backtrader.talib' has no attribute 'RSI'",
     "output_type": "error",
     "traceback": [
      "\u001b[1;31m---------------------------------------------------------------------------\u001b[0m",
      "\u001b[1;31mAttributeError\u001b[0m                            Traceback (most recent call last)",
      "\u001b[1;32mc:\\Users\\gabrielanatalia\\Documents\\Technical-Analysis\\BT-RSI.ipynb Cell 7\u001b[0m in \u001b[0;36m<cell line: 10>\u001b[1;34m()\u001b[0m\n\u001b[0;32m      <a href='vscode-notebook-cell:/c%3A/Users/gabrielanatalia/Documents/Technical-Analysis/BT-RSI.ipynb#W6sZmlsZQ%3D%3D?line=6'>7</a>\u001b[0m cerebro\u001b[39m.\u001b[39maddobserver(bt\u001b[39m.\u001b[39mobservers\u001b[39m.\u001b[39mBuySell)\n\u001b[0;32m      <a href='vscode-notebook-cell:/c%3A/Users/gabrielanatalia/Documents/Technical-Analysis/BT-RSI.ipynb#W6sZmlsZQ%3D%3D?line=7'>8</a>\u001b[0m cerebro\u001b[39m.\u001b[39maddobserver(bt\u001b[39m.\u001b[39mobservers\u001b[39m.\u001b[39mValue)\n\u001b[1;32m---> <a href='vscode-notebook-cell:/c%3A/Users/gabrielanatalia/Documents/Technical-Analysis/BT-RSI.ipynb#W6sZmlsZQ%3D%3D?line=9'>10</a>\u001b[0m cerebro\u001b[39m.\u001b[39;49mrun()\n",
      "File \u001b[1;32mc:\\Users\\gabrielanatalia\\AppData\\Local\\Programs\\Python\\Python39\\lib\\site-packages\\backtrader\\cerebro.py:1127\u001b[0m, in \u001b[0;36mCerebro.run\u001b[1;34m(self, **kwargs)\u001b[0m\n\u001b[0;32m   1123\u001b[0m \u001b[39mif\u001b[39;00m \u001b[39mnot\u001b[39;00m \u001b[39mself\u001b[39m\u001b[39m.\u001b[39m_dooptimize \u001b[39mor\u001b[39;00m \u001b[39mself\u001b[39m\u001b[39m.\u001b[39mp\u001b[39m.\u001b[39mmaxcpus \u001b[39m==\u001b[39m \u001b[39m1\u001b[39m:\n\u001b[0;32m   1124\u001b[0m     \u001b[39m# If no optimmization is wished ... or 1 core is to be used\u001b[39;00m\n\u001b[0;32m   1125\u001b[0m     \u001b[39m# let's skip process \"spawning\"\u001b[39;00m\n\u001b[0;32m   1126\u001b[0m     \u001b[39mfor\u001b[39;00m iterstrat \u001b[39min\u001b[39;00m iterstrats:\n\u001b[1;32m-> 1127\u001b[0m         runstrat \u001b[39m=\u001b[39m \u001b[39mself\u001b[39;49m\u001b[39m.\u001b[39;49mrunstrategies(iterstrat)\n\u001b[0;32m   1128\u001b[0m         \u001b[39mself\u001b[39m\u001b[39m.\u001b[39mrunstrats\u001b[39m.\u001b[39mappend(runstrat)\n\u001b[0;32m   1129\u001b[0m         \u001b[39mif\u001b[39;00m \u001b[39mself\u001b[39m\u001b[39m.\u001b[39m_dooptimize:\n",
      "File \u001b[1;32mc:\\Users\\gabrielanatalia\\AppData\\Local\\Programs\\Python\\Python39\\lib\\site-packages\\backtrader\\cerebro.py:1217\u001b[0m, in \u001b[0;36mCerebro.runstrategies\u001b[1;34m(self, iterstrat, predata)\u001b[0m\n\u001b[0;32m   1215\u001b[0m sargs \u001b[39m=\u001b[39m \u001b[39mself\u001b[39m\u001b[39m.\u001b[39mdatas \u001b[39m+\u001b[39m \u001b[39mlist\u001b[39m(sargs)\n\u001b[0;32m   1216\u001b[0m \u001b[39mtry\u001b[39;00m:\n\u001b[1;32m-> 1217\u001b[0m     strat \u001b[39m=\u001b[39m stratcls(\u001b[39m*\u001b[39msargs, \u001b[39m*\u001b[39m\u001b[39m*\u001b[39mskwargs)\n\u001b[0;32m   1218\u001b[0m \u001b[39mexcept\u001b[39;00m bt\u001b[39m.\u001b[39merrors\u001b[39m.\u001b[39mStrategySkipError:\n\u001b[0;32m   1219\u001b[0m     \u001b[39mcontinue\u001b[39;00m  \u001b[39m# do not add strategy to the mix\u001b[39;00m\n",
      "File \u001b[1;32mc:\\Users\\gabrielanatalia\\AppData\\Local\\Programs\\Python\\Python39\\lib\\site-packages\\backtrader\\metabase.py:88\u001b[0m, in \u001b[0;36mMetaBase.__call__\u001b[1;34m(cls, *args, **kwargs)\u001b[0m\n\u001b[0;32m     86\u001b[0m _obj, args, kwargs \u001b[39m=\u001b[39m \u001b[39mcls\u001b[39m\u001b[39m.\u001b[39mdonew(\u001b[39m*\u001b[39margs, \u001b[39m*\u001b[39m\u001b[39m*\u001b[39mkwargs)\n\u001b[0;32m     87\u001b[0m _obj, args, kwargs \u001b[39m=\u001b[39m \u001b[39mcls\u001b[39m\u001b[39m.\u001b[39mdopreinit(_obj, \u001b[39m*\u001b[39margs, \u001b[39m*\u001b[39m\u001b[39m*\u001b[39mkwargs)\n\u001b[1;32m---> 88\u001b[0m _obj, args, kwargs \u001b[39m=\u001b[39m \u001b[39mcls\u001b[39m\u001b[39m.\u001b[39mdoinit(_obj, \u001b[39m*\u001b[39margs, \u001b[39m*\u001b[39m\u001b[39m*\u001b[39mkwargs)\n\u001b[0;32m     89\u001b[0m _obj, args, kwargs \u001b[39m=\u001b[39m \u001b[39mcls\u001b[39m\u001b[39m.\u001b[39mdopostinit(_obj, \u001b[39m*\u001b[39margs, \u001b[39m*\u001b[39m\u001b[39m*\u001b[39mkwargs)\n\u001b[0;32m     90\u001b[0m \u001b[39mreturn\u001b[39;00m _obj\n",
      "File \u001b[1;32mc:\\Users\\gabrielanatalia\\AppData\\Local\\Programs\\Python\\Python39\\lib\\site-packages\\backtrader\\metabase.py:78\u001b[0m, in \u001b[0;36mMetaBase.doinit\u001b[1;34m(cls, _obj, *args, **kwargs)\u001b[0m\n\u001b[0;32m     77\u001b[0m \u001b[39mdef\u001b[39;00m \u001b[39mdoinit\u001b[39m(\u001b[39mcls\u001b[39m, _obj, \u001b[39m*\u001b[39margs, \u001b[39m*\u001b[39m\u001b[39m*\u001b[39mkwargs):\n\u001b[1;32m---> 78\u001b[0m     _obj\u001b[39m.\u001b[39m\u001b[39m__init__\u001b[39m(\u001b[39m*\u001b[39margs, \u001b[39m*\u001b[39m\u001b[39m*\u001b[39mkwargs)\n\u001b[0;32m     79\u001b[0m     \u001b[39mreturn\u001b[39;00m _obj, args, kwargs\n",
      "\u001b[1;32mc:\\Users\\gabrielanatalia\\Documents\\Technical-Analysis\\BT-RSI.ipynb Cell 7\u001b[0m in \u001b[0;36mRsiSignalStrategy.__init__\u001b[1;34m(self)\u001b[0m\n\u001b[0;32m      <a href='vscode-notebook-cell:/c%3A/Users/gabrielanatalia/Documents/Technical-Analysis/BT-RSI.ipynb#W6sZmlsZQ%3D%3D?line=8'>9</a>\u001b[0m rsi \u001b[39m=\u001b[39m bt\u001b[39m.\u001b[39mindicators\u001b[39m.\u001b[39mRSI(period\u001b[39m=\u001b[39m\u001b[39mself\u001b[39m\u001b[39m.\u001b[39mp\u001b[39m.\u001b[39mrsi_periods,\n\u001b[0;32m     <a href='vscode-notebook-cell:/c%3A/Users/gabrielanatalia/Documents/Technical-Analysis/BT-RSI.ipynb#W6sZmlsZQ%3D%3D?line=9'>10</a>\u001b[0m                         upperband\u001b[39m=\u001b[39m\u001b[39mself\u001b[39m\u001b[39m.\u001b[39mp\u001b[39m.\u001b[39mrsi_upper,\n\u001b[0;32m     <a href='vscode-notebook-cell:/c%3A/Users/gabrielanatalia/Documents/Technical-Analysis/BT-RSI.ipynb#W6sZmlsZQ%3D%3D?line=10'>11</a>\u001b[0m                         lowerband\u001b[39m=\u001b[39m\u001b[39mself\u001b[39m\u001b[39m.\u001b[39mp\u001b[39m.\u001b[39mrsi_lower)\n\u001b[0;32m     <a href='vscode-notebook-cell:/c%3A/Users/gabrielanatalia/Documents/Technical-Analysis/BT-RSI.ipynb#W6sZmlsZQ%3D%3D?line=12'>13</a>\u001b[0m \u001b[39m# add RSI from TA-lib just for reference \u001b[39;00m\n\u001b[1;32m---> <a href='vscode-notebook-cell:/c%3A/Users/gabrielanatalia/Documents/Technical-Analysis/BT-RSI.ipynb#W6sZmlsZQ%3D%3D?line=13'>14</a>\u001b[0m bt\u001b[39m.\u001b[39;49mtalib\u001b[39m.\u001b[39;49mRSI(\u001b[39mself\u001b[39m\u001b[39m.\u001b[39mdata, plotname\u001b[39m=\u001b[39m\u001b[39m'\u001b[39m\u001b[39mTA_RSI\u001b[39m\u001b[39m'\u001b[39m)\n\u001b[0;32m     <a href='vscode-notebook-cell:/c%3A/Users/gabrielanatalia/Documents/Technical-Analysis/BT-RSI.ipynb#W6sZmlsZQ%3D%3D?line=15'>16</a>\u001b[0m \u001b[39m# long condition (with exit)\u001b[39;00m\n\u001b[0;32m     <a href='vscode-notebook-cell:/c%3A/Users/gabrielanatalia/Documents/Technical-Analysis/BT-RSI.ipynb#W6sZmlsZQ%3D%3D?line=16'>17</a>\u001b[0m rsi_signal_long \u001b[39m=\u001b[39m bt\u001b[39m.\u001b[39mind\u001b[39m.\u001b[39mCrossUp(rsi, \u001b[39mself\u001b[39m\u001b[39m.\u001b[39mp\u001b[39m.\u001b[39mrsi_lower, plot\u001b[39m=\u001b[39m\u001b[39mFalse\u001b[39;00m)\n",
      "\u001b[1;31mAttributeError\u001b[0m: module 'backtrader.talib' has no attribute 'RSI'"
     ]
    }
   ],
   "source": [
    "cerebro = bt.Cerebro(stdstats = False)\n",
    "\n",
    "cerebro.addstrategy(RsiSignalStrategy)\n",
    "cerebro.adddata(data)\n",
    "cerebro.broker.setcash(1000.0)\n",
    "cerebro.broker.setcommission(commission=0.001)\n",
    "cerebro.addobserver(bt.observers.BuySell)\n",
    "cerebro.addobserver(bt.observers.Value)\n",
    "\n",
    "cerebro.run()"
   ]
  },
  {
   "cell_type": "code",
   "execution_count": null,
   "metadata": {},
   "outputs": [],
   "source": []
  }
 ],
 "metadata": {
  "kernelspec": {
   "display_name": "Python 3.9.13 64-bit",
   "language": "python",
   "name": "python3"
  },
  "language_info": {
   "codemirror_mode": {
    "name": "ipython",
    "version": 3
   },
   "file_extension": ".py",
   "mimetype": "text/x-python",
   "name": "python",
   "nbconvert_exporter": "python",
   "pygments_lexer": "ipython3",
   "version": "3.9.13"
  },
  "orig_nbformat": 4,
  "vscode": {
   "interpreter": {
    "hash": "b4a8b50c5c4d3442585e6352feb54c9dc62da69ebaa61e6ac5088be6d4da046c"
   }
  }
 },
 "nbformat": 4,
 "nbformat_minor": 2
}

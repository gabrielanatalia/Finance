{
 "cells": [
  {
   "cell_type": "markdown",
   "metadata": {},
   "source": [
    "# Pricing American Options with Least Squares Monte Carlo"
   ]
  },
  {
   "cell_type": "markdown",
   "metadata": {},
   "source": [
    "The key difference between European and American options is that the latter can be exercised at any time before and\n",
    "including the maturity date – basically, whenever the underlying asset's price moves favorably for the option holder.\n",
    "\n",
    "When using Monte-Carlo simulations, we cannot only look at the terminal value on each sample path, as the option's exercise can happen anywhere along\n",
    "the path. That is why we need to employ a more sophisticated approach called Least Squares Monte Carlo (LSMC)\n",
    "\n",
    "First of all, the time axis spanning [0, T] is discretized into a finite number of equally spaced intervals and the early exercise can happen only at those particular time-steps. Effectively,\n",
    "the American option is approximated by a Bermudan one. For any time step t, the early exercise is performed in case the payoff from immediate exercise is larger than the\n",
    "continuation value.\n",
    "\n",
    "This is expressed by the following formula:\n",
    "Vt(s) = max(ht(s), Ct(s))"
   ]
  },
  {
   "cell_type": "code",
   "execution_count": 14,
   "metadata": {},
   "outputs": [],
   "source": [
    "import numpy as np\n",
    "from scipy.stats import norm"
   ]
  },
  {
   "cell_type": "code",
   "execution_count": 4,
   "metadata": {},
   "outputs": [],
   "source": [
    "def simulate_gbm(s_0, mu, sigma, n_sims, T, N, random_seed=42, antithetic_var=False):\n",
    "    '''\n",
    "    Function used for simulating stock returns using Geometric Brownian Motion.\n",
    "    \n",
    "    Parameters\n",
    "    ----------\n",
    "    s_0 : float\n",
    "        Initial stock price\n",
    "    mu : float\n",
    "        Drift coefficient\n",
    "    sigma : float\n",
    "        Diffusion coefficient\n",
    "    n_sims : int\n",
    "        Number of simulations paths\n",
    "    dt : float\n",
    "        Time increment, most commonly a day\n",
    "    T : float\n",
    "        Length of the forecast horizon, same unit as dt\n",
    "    N : int\n",
    "        Number of time increments in the forecast horizon\n",
    "    random_seed : int\n",
    "        Random seed for reproducibility\n",
    "    antithetic_var : bool\n",
    "        Boolean whether to use antithetic variates approach to reduce variance\n",
    "\n",
    "    Returns\n",
    "    -------\n",
    "    S_t : np.ndarray\n",
    "        Matrix (size: n_sims x (T+1)) containing the simulation results. \n",
    "        Rows respresent sample paths, while columns point of time.\n",
    "    '''\n",
    "\n",
    "    np.random.seed(random_seed)\n",
    "\n",
    "    # time increment\n",
    "    dt = T/N\n",
    "\n",
    "    # Brownian\n",
    "    if antithetic_var:\n",
    "        dW_ant = np.random.normal(scale=np.sqrt(dt),\n",
    "                                  size=(int(n_sims/2), N + 1))\n",
    "        dW = np.concatenate((dW_ant, -dW_ant), axis=0)\n",
    "    else:\n",
    "        dW = np.random.normal(scale=np.sqrt(dt),\n",
    "                              size=(n_sims, N + 1))\n",
    "\n",
    "    # simulate the evolution of the process\n",
    "    S_t = s_0 * np.exp(np.cumsum((mu - 0.5 * sigma ** 2) * dt + sigma * dW,\n",
    "                                 axis=1))\n",
    "    S_t[:, 0] = s_0\n",
    "\n",
    "    return S_t\n"
   ]
  },
  {
   "cell_type": "code",
   "execution_count": 5,
   "metadata": {},
   "outputs": [],
   "source": [
    "def black_scholes_analytical(S_0, K, T, r, sigma, type='call'):\n",
    "    '''\n",
    "    Function used for calculating the price of European options using the analytical form of the Black-Scholes model.\n",
    "    \n",
    "    Parameters\n",
    "    ------------\n",
    "    s_0 : float\n",
    "        Initial stock price\n",
    "    K : float\n",
    "        Strike price\n",
    "    T : float\n",
    "        Time to maturity in years\n",
    "    r : float\n",
    "        Annualized risk-free rate\n",
    "    sigma : float\n",
    "        Standard deviation of the stock returns\n",
    "    \n",
    "    Returns\n",
    "    -----------\n",
    "    option_premium : float\n",
    "        The premium on the option calculated using the Black-Scholes model\n",
    "    '''\n",
    "\n",
    "    d1 = (np.log(S_0 / K) + (r + 0.5 * sigma ** 2) * T) / (sigma * np.sqrt(T))\n",
    "    d2 = (np.log(S_0 / K) + (r - 0.5 * sigma ** 2) * T) / (sigma * np.sqrt(T))\n",
    "\n",
    "    if type == 'call':\n",
    "        option_premium = (S_0 * norm.cdf(d1, 0, 1) - K * np.exp(-r * T) * norm.cdf(d2, 0, 1))\n",
    "    elif type == 'put':\n",
    "        option_premium = (K * np.exp(-r * T) * norm.cdf(-d2, 0, 1) - S_0 * norm.cdf(-d1, 0, 1))\n",
    "    else:\n",
    "        raise ValueError('Wrong input for type!')\n",
    "\n",
    "    return option_premium\n",
    "\n",
    "\n",
    "def lsmc_american_option(S_0, K, T, N, r, sigma, n_sims, option_type, poly_degree, random_seed=42):\n",
    "    '''\n",
    "    Function used for calculating the price of American options using Least Squares Monte Carlo \n",
    "    algorithm of Longstaff and Schwartz (2001).\n",
    "    \n",
    "    Parameters\n",
    "    ------------\n",
    "    S_0 : float\n",
    "        Initial stock price\n",
    "    K : float\n",
    "        Strike price\n",
    "    T : float\n",
    "        Time to maturity in years\n",
    "    N : int\n",
    "        Number of time increments in the forecast horizon\n",
    "    r : float\n",
    "        Annualized risk-free rate\n",
    "    sigma : float\n",
    "        Standard deviation of the stock returns\n",
    "    n_sims : int\n",
    "        Number of paths to simulate\n",
    "    option_type : str\n",
    "        Type of the option. Allowable: ['call', 'put']\n",
    "    poly_degree : int\n",
    "        Degree of the polynomial to fit in the LSMC algorithm\n",
    "    random_seed : int\n",
    "        Random seed for reproducibility\n",
    "        \n",
    "    Returns\n",
    "    -----------\n",
    "    option_premium : float\n",
    "        The premium on the option \n",
    "    '''\n",
    "\n",
    "    dt = T / N\n",
    "    discount_factor = np.exp(-r * dt)\n",
    "\n",
    "    gbm_simulations = simulate_gbm(s_0=S_0, mu=r, sigma=sigma, \n",
    "                                   n_sims=n_sims, T=T, N=N,\n",
    "                                   random_seed=random_seed)\n",
    "\n",
    "    if option_type == 'call':\n",
    "        payoff_matrix = np.maximum(\n",
    "            gbm_simulations - K, np.zeros_like(gbm_simulations))\n",
    "    elif option_type == 'put':\n",
    "        payoff_matrix = np.maximum(\n",
    "            K - gbm_simulations, np.zeros_like(gbm_simulations))\n",
    "\n",
    "    value_matrix = np.zeros_like(payoff_matrix)\n",
    "    value_matrix[:, -1] = payoff_matrix[:, -1]\n",
    "\n",
    "    for t in range(N - 1, 0, -1):\n",
    "        regression = np.polyfit(\n",
    "            gbm_simulations[:, t], value_matrix[:, t + 1] * discount_factor, poly_degree)\n",
    "        continuation_value = np.polyval(regression, gbm_simulations[:, t])\n",
    "        value_matrix[:, t] = np.where(payoff_matrix[:, t] > continuation_value,\n",
    "                                      payoff_matrix[:, t],\n",
    "                                      value_matrix[:, t + 1] * discount_factor)\n",
    "\n",
    "    option_premium = np.mean(value_matrix[:, 1] * discount_factor)\n",
    "    return option_premium"
   ]
  },
  {
   "cell_type": "code",
   "execution_count": 2,
   "metadata": {},
   "outputs": [],
   "source": [
    "S_0 = 36\n",
    "K = 40\n",
    "r = 0.06\n",
    "sigma = 0.2\n",
    "T = 1 # 1 year\n",
    "N = 50 \n",
    "dt = T / N \n",
    "N_SIMS = 10 ** 5 \n",
    "discount_factor = np.exp(-r * dt)\n",
    "OPTION_TYPE = 'put'\n",
    "POLY_DEGREE = 5 "
   ]
  },
  {
   "cell_type": "code",
   "execution_count": 6,
   "metadata": {},
   "outputs": [],
   "source": [
    "# Simulate the stock prices using GBM\n",
    "\n",
    "gbm_sims = simulate_gbm(s_0=S_0, mu=r, sigma=sigma, n_sims=N_SIMS, \n",
    "                        T=T, N=N)"
   ]
  },
  {
   "cell_type": "code",
   "execution_count": 7,
   "metadata": {},
   "outputs": [],
   "source": [
    "# Calculate the payoff matrix\n",
    "\n",
    "payoff_matrix = np.maximum(K - gbm_sims, np.zeros_like(gbm_sims))"
   ]
  },
  {
   "cell_type": "code",
   "execution_count": 8,
   "metadata": {},
   "outputs": [],
   "source": [
    "# Define the value matrix and fill in the last column (time T)\n",
    "\n",
    "value_matrix = np.zeros_like(payoff_matrix)\n",
    "value_matrix[:, -1] = payoff_matrix[:, -1]"
   ]
  },
  {
   "cell_type": "code",
   "execution_count": 9,
   "metadata": {},
   "outputs": [],
   "source": [
    "# Iteratively calculate the continuation value and the value vector in the given time\n",
    "\n",
    "for t in range(N - 1, 0 , -1):\n",
    "    regression = np.polyfit(gbm_sims[:, t], \n",
    "                            value_matrix[:, t + 1] * discount_factor, \n",
    "                            POLY_DEGREE)\n",
    "    continuation_value = np.polyval(regression, gbm_sims[:, t])\n",
    "    value_matrix[:, t] = np.where(\n",
    "        payoff_matrix[:, t] > continuation_value,\n",
    "        payoff_matrix[:, t],\n",
    "        value_matrix[:, t + 1] * discount_factor\n",
    "    )"
   ]
  },
  {
   "cell_type": "code",
   "execution_count": 10,
   "metadata": {},
   "outputs": [
    {
     "name": "stdout",
     "output_type": "stream",
     "text": [
      "The premium on the specified American put option is 4.465\n"
     ]
    }
   ],
   "source": [
    "# Calculate the option premium\n",
    "\n",
    "option_premium = np.mean(value_matrix[:, 1] * discount_factor)\n",
    "print(f'The premium on the specified American {OPTION_TYPE} option is {option_premium:.3f}')"
   ]
  },
  {
   "cell_type": "code",
   "execution_count": 15,
   "metadata": {},
   "outputs": [
    {
     "data": {
      "text/plain": [
       "3.84430779159684"
      ]
     },
     "execution_count": 15,
     "metadata": {},
     "output_type": "execute_result"
    }
   ],
   "source": [
    "# Calculate the premium of a European put with the same parameters\n",
    "\n",
    "black_scholes_analytical(S_0=S_0, K=K, T=T, r=r, sigma=sigma, \n",
    "                         type='put')"
   ]
  },
  {
   "cell_type": "code",
   "execution_count": 16,
   "metadata": {},
   "outputs": [
    {
     "name": "stdout",
     "output_type": "stream",
     "text": [
      "The price of the European call is 2.174, and the American call's price (using 100000 simulations) is 2.097\n"
     ]
    }
   ],
   "source": [
    "# As an extra check, calculate the prices of the American and European call options\n",
    "\n",
    "european_call_price = black_scholes_analytical(S_0=S_0, K=K, T=T, \n",
    "                                               r=r, sigma=sigma)\n",
    "american_call_price = lsmc_american_option(S_0=S_0, K=K, T=T, N=N, r=r, \n",
    "                                           sigma=sigma, n_sims=N_SIMS, \n",
    "                                           option_type='call', \n",
    "                                           poly_degree=POLY_DEGREE)\n",
    "print(f\"The price of the European call is {european_call_price:.3f}, and the American call's price (using {N_SIMS} simulations) is {american_call_price:.3f}\")"
   ]
  },
  {
   "cell_type": "markdown",
   "metadata": {},
   "source": [
    "# Pricing American Options using Quantlib"
   ]
  },
  {
   "cell_type": "code",
   "execution_count": 17,
   "metadata": {},
   "outputs": [],
   "source": [
    "S_0 = 36\n",
    "r = 0.06\n",
    "sigma = 0.2\n",
    "K = 40\n",
    "OPTION_TYPE = 'put'\n",
    "POLY_DEGREE = 5 \n",
    "R_SEED = 42\n",
    "N_SIMS = 10 ** 5 \n",
    "N = 50 "
   ]
  },
  {
   "cell_type": "code",
   "execution_count": 19,
   "metadata": {},
   "outputs": [],
   "source": [
    "import QuantLib as ql"
   ]
  },
  {
   "cell_type": "code",
   "execution_count": 20,
   "metadata": {},
   "outputs": [],
   "source": [
    "calendar = ql.UnitedStates()\n",
    "day_counter = ql.ActualActual()"
   ]
  },
  {
   "cell_type": "code",
   "execution_count": 21,
   "metadata": {},
   "outputs": [],
   "source": [
    "valuation_date = ql.Date(1, 1, 2018)\n",
    "expiry_date =  ql.Date(1, 1, 2019)\n",
    "ql.Settings.instance().evaluationDate = valuation_date"
   ]
  },
  {
   "cell_type": "code",
   "execution_count": 22,
   "metadata": {},
   "outputs": [],
   "source": [
    "# Define the option type (call/put), type of exercise and the payoff\n",
    "\n",
    "if OPTION_TYPE == 'call':\n",
    "    option_type_ql = ql.Option.Call\n",
    "elif OPTION_TYPE == 'put':\n",
    "    option_type_ql = ql.Option.Put\n",
    "        \n",
    "exercise = ql.AmericanExercise(valuation_date, expiry_date)\n",
    "payoff = ql.PlainVanillaPayoff(option_type_ql, K)"
   ]
  },
  {
   "cell_type": "code",
   "execution_count": 23,
   "metadata": {},
   "outputs": [],
   "source": [
    "u = ql.SimpleQuote(S_0)\n",
    "r = ql.SimpleQuote(r)\n",
    "sigma = ql.SimpleQuote(sigma)"
   ]
  },
  {
   "cell_type": "code",
   "execution_count": 24,
   "metadata": {},
   "outputs": [],
   "source": [
    "# Specify the market-related curves\n",
    "\n",
    "# volatility = ql.BlackConstantVol(valuation_date, calendar, sigma, day_counter)\n",
    "# risk_free_rate = ql.FlatForward(valuation_date, r, day_counter)\n",
    "underlying = ql.QuoteHandle(u)\n",
    "volatility = ql.BlackConstantVol(0, ql.TARGET(), \n",
    "                                 ql.QuoteHandle(sigma), \n",
    "                                 day_counter)\n",
    "risk_free_rate = ql.FlatForward(0, ql.TARGET(), \n",
    "                                ql.QuoteHandle(r), \n",
    "                                day_counter)"
   ]
  },
  {
   "cell_type": "code",
   "execution_count": 25,
   "metadata": {},
   "outputs": [],
   "source": [
    "# Plug in the market-related data into the BS process\n",
    "\n",
    "bs_process = ql.BlackScholesProcess(\n",
    "    underlying,\n",
    "    ql.YieldTermStructureHandle(risk_free_rate),\n",
    "    ql.BlackVolTermStructureHandle(volatility),\n",
    ")"
   ]
  },
  {
   "cell_type": "code",
   "execution_count": 26,
   "metadata": {},
   "outputs": [],
   "source": [
    "# Instantiate the Monte Carlo engine for the American options\n",
    "\n",
    "engine = ql.MCAmericanEngine(bs_process, 'PseudoRandom', timeSteps=N, \n",
    "                             polynomOrder=POLY_DEGREE, \n",
    "                             seedCalibration=R_SEED, \n",
    "                             requiredSamples=N_SIMS)"
   ]
  },
  {
   "cell_type": "code",
   "execution_count": 27,
   "metadata": {},
   "outputs": [],
   "source": [
    "# Instantiate the `option` object and set its pricing engine\n",
    "\n",
    "option = ql.VanillaOption(payoff, exercise)\n",
    "option.setPricingEngine(engine)"
   ]
  },
  {
   "cell_type": "code",
   "execution_count": 28,
   "metadata": {},
   "outputs": [],
   "source": [
    "# Calculate the option premium\n",
    "\n",
    "option_premium_ql = option.NPV()"
   ]
  },
  {
   "cell_type": "code",
   "execution_count": 29,
   "metadata": {},
   "outputs": [
    {
     "name": "stdout",
     "output_type": "stream",
     "text": [
      "The value of the American put option is: 4.455\n"
     ]
    }
   ],
   "source": [
    "print(f'The value of the American {OPTION_TYPE} option is: {option_premium_ql:.3f}')"
   ]
  },
  {
   "cell_type": "code",
   "execution_count": 30,
   "metadata": {},
   "outputs": [
    {
     "name": "stdout",
     "output_type": "stream",
     "text": [
      "Delta of the option: -0.23\n"
     ]
    }
   ],
   "source": [
    "u_0 = u.value() # original value\n",
    "h = 0.01\n",
    "\n",
    "u.setValue(u_0 + h)\n",
    "P_plus_h = option.NPV()\n",
    "\n",
    "u.setValue(u_0 - h)\n",
    "P_minus_h = option.NPV()\n",
    "\n",
    "u.setValue(u_0) # set back to the original value\n",
    "\n",
    "delta = (P_plus_h - P_minus_h) / (2 * h)\n",
    "\n",
    "print(f'Delta of the option: {delta:.2f}')"
   ]
  },
  {
   "cell_type": "code",
   "execution_count": null,
   "metadata": {},
   "outputs": [],
   "source": []
  }
 ],
 "metadata": {
  "kernelspec": {
   "display_name": "Python 3.9.13 64-bit",
   "language": "python",
   "name": "python3"
  },
  "language_info": {
   "codemirror_mode": {
    "name": "ipython",
    "version": 3
   },
   "file_extension": ".py",
   "mimetype": "text/x-python",
   "name": "python",
   "nbconvert_exporter": "python",
   "pygments_lexer": "ipython3",
   "version": "3.9.13"
  },
  "orig_nbformat": 4,
  "vscode": {
   "interpreter": {
    "hash": "b4a8b50c5c4d3442585e6352feb54c9dc62da69ebaa61e6ac5088be6d4da046c"
   }
  }
 },
 "nbformat": 4,
 "nbformat_minor": 2
}

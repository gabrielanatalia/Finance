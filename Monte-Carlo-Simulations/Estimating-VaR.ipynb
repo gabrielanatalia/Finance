{
 "cells": [
  {
   "cell_type": "markdown",
   "metadata": {},
   "source": [
    "# Estimating Value-at-risk using Monte Carlo"
   ]
  },
  {
   "cell_type": "markdown",
   "metadata": {},
   "source": [
    "VaR reports the worst expected loss – at a given level of confidence – over a certain horizon under normal market conditions. The easiest way to understand it\n",
    "is by looking at an example. Let's say that the 1-day 95% VaR of our portfolio is $100. This means that 95% of the time (under normal market conditions), we will not lose more than\n",
    "$100 by holding our portfolio over one day."
   ]
  },
  {
   "cell_type": "code",
   "execution_count": 6,
   "metadata": {},
   "outputs": [],
   "source": [
    "import numpy as np\n",
    "import pandas as pd\n",
    "import yfinance as yf\n",
    "import seaborn as sns\n",
    "import matplotlib.pyplot as plt"
   ]
  },
  {
   "cell_type": "code",
   "execution_count": 2,
   "metadata": {},
   "outputs": [],
   "source": [
    "# set random seed for reproducibility\n",
    "np.random.seed(42)"
   ]
  },
  {
   "cell_type": "code",
   "execution_count": 9,
   "metadata": {},
   "outputs": [],
   "source": [
    "RISKY_ASSETS = ['GOOG', 'META']\n",
    "SHARES = [5, 5]\n",
    "START_DATE = '2018-01-01'\n",
    "END_DATE = '2018-12-31'\n",
    "T = 1\n",
    "N_SIMS = 10 ** 5"
   ]
  },
  {
   "cell_type": "code",
   "execution_count": 10,
   "metadata": {},
   "outputs": [
    {
     "name": "stdout",
     "output_type": "stream",
     "text": [
      "[*********************100%***********************]  2 of 2 completed\n",
      "Downloaded 250 rows of data.\n"
     ]
    },
    {
     "data": {
      "text/html": [
       "<div>\n",
       "<style scoped>\n",
       "    .dataframe tbody tr th:only-of-type {\n",
       "        vertical-align: middle;\n",
       "    }\n",
       "\n",
       "    .dataframe tbody tr th {\n",
       "        vertical-align: top;\n",
       "    }\n",
       "\n",
       "    .dataframe thead tr th {\n",
       "        text-align: left;\n",
       "    }\n",
       "\n",
       "    .dataframe thead tr:last-of-type th {\n",
       "        text-align: right;\n",
       "    }\n",
       "</style>\n",
       "<table border=\"1\" class=\"dataframe\">\n",
       "  <thead>\n",
       "    <tr>\n",
       "      <th></th>\n",
       "      <th colspan=\"2\" halign=\"left\">Adj Close</th>\n",
       "      <th colspan=\"2\" halign=\"left\">Close</th>\n",
       "      <th colspan=\"2\" halign=\"left\">High</th>\n",
       "      <th colspan=\"2\" halign=\"left\">Low</th>\n",
       "      <th colspan=\"2\" halign=\"left\">Open</th>\n",
       "      <th colspan=\"2\" halign=\"left\">Volume</th>\n",
       "    </tr>\n",
       "    <tr>\n",
       "      <th></th>\n",
       "      <th>GOOG</th>\n",
       "      <th>META</th>\n",
       "      <th>GOOG</th>\n",
       "      <th>META</th>\n",
       "      <th>GOOG</th>\n",
       "      <th>META</th>\n",
       "      <th>GOOG</th>\n",
       "      <th>META</th>\n",
       "      <th>GOOG</th>\n",
       "      <th>META</th>\n",
       "      <th>GOOG</th>\n",
       "      <th>META</th>\n",
       "    </tr>\n",
       "    <tr>\n",
       "      <th>Date</th>\n",
       "      <th></th>\n",
       "      <th></th>\n",
       "      <th></th>\n",
       "      <th></th>\n",
       "      <th></th>\n",
       "      <th></th>\n",
       "      <th></th>\n",
       "      <th></th>\n",
       "      <th></th>\n",
       "      <th></th>\n",
       "      <th></th>\n",
       "      <th></th>\n",
       "    </tr>\n",
       "  </thead>\n",
       "  <tbody>\n",
       "    <tr>\n",
       "      <th>2018-01-02</th>\n",
       "      <td>53.250000</td>\n",
       "      <td>181.419998</td>\n",
       "      <td>53.250000</td>\n",
       "      <td>181.419998</td>\n",
       "      <td>53.347000</td>\n",
       "      <td>181.580002</td>\n",
       "      <td>52.261501</td>\n",
       "      <td>177.550003</td>\n",
       "      <td>52.417000</td>\n",
       "      <td>177.679993</td>\n",
       "      <td>24752000</td>\n",
       "      <td>18151900</td>\n",
       "    </tr>\n",
       "    <tr>\n",
       "      <th>2018-01-03</th>\n",
       "      <td>54.124001</td>\n",
       "      <td>184.669998</td>\n",
       "      <td>54.124001</td>\n",
       "      <td>184.669998</td>\n",
       "      <td>54.314499</td>\n",
       "      <td>184.779999</td>\n",
       "      <td>53.160500</td>\n",
       "      <td>181.330002</td>\n",
       "      <td>53.215500</td>\n",
       "      <td>181.880005</td>\n",
       "      <td>28604000</td>\n",
       "      <td>16886600</td>\n",
       "    </tr>\n",
       "    <tr>\n",
       "      <th>2018-01-04</th>\n",
       "      <td>54.320000</td>\n",
       "      <td>184.330002</td>\n",
       "      <td>54.320000</td>\n",
       "      <td>184.330002</td>\n",
       "      <td>54.678501</td>\n",
       "      <td>186.210007</td>\n",
       "      <td>54.200100</td>\n",
       "      <td>184.100006</td>\n",
       "      <td>54.400002</td>\n",
       "      <td>184.899994</td>\n",
       "      <td>20092000</td>\n",
       "      <td>13880900</td>\n",
       "    </tr>\n",
       "    <tr>\n",
       "      <th>2018-01-05</th>\n",
       "      <td>55.111500</td>\n",
       "      <td>186.850006</td>\n",
       "      <td>55.111500</td>\n",
       "      <td>186.850006</td>\n",
       "      <td>55.212502</td>\n",
       "      <td>186.899994</td>\n",
       "      <td>54.599998</td>\n",
       "      <td>184.929993</td>\n",
       "      <td>54.700001</td>\n",
       "      <td>185.589996</td>\n",
       "      <td>25582000</td>\n",
       "      <td>13574500</td>\n",
       "    </tr>\n",
       "    <tr>\n",
       "      <th>2018-01-08</th>\n",
       "      <td>55.347000</td>\n",
       "      <td>188.279999</td>\n",
       "      <td>55.347000</td>\n",
       "      <td>188.279999</td>\n",
       "      <td>55.563499</td>\n",
       "      <td>188.899994</td>\n",
       "      <td>55.081001</td>\n",
       "      <td>186.330002</td>\n",
       "      <td>55.111500</td>\n",
       "      <td>187.199997</td>\n",
       "      <td>20952000</td>\n",
       "      <td>17994700</td>\n",
       "    </tr>\n",
       "  </tbody>\n",
       "</table>\n",
       "</div>"
      ],
      "text/plain": [
       "            Adj Close                  Close                   High  \\\n",
       "                 GOOG        META       GOOG        META       GOOG   \n",
       "Date                                                                  \n",
       "2018-01-02  53.250000  181.419998  53.250000  181.419998  53.347000   \n",
       "2018-01-03  54.124001  184.669998  54.124001  184.669998  54.314499   \n",
       "2018-01-04  54.320000  184.330002  54.320000  184.330002  54.678501   \n",
       "2018-01-05  55.111500  186.850006  55.111500  186.850006  55.212502   \n",
       "2018-01-08  55.347000  188.279999  55.347000  188.279999  55.563499   \n",
       "\n",
       "                              Low                   Open              \\\n",
       "                  META       GOOG        META       GOOG        META   \n",
       "Date                                                                   \n",
       "2018-01-02  181.580002  52.261501  177.550003  52.417000  177.679993   \n",
       "2018-01-03  184.779999  53.160500  181.330002  53.215500  181.880005   \n",
       "2018-01-04  186.210007  54.200100  184.100006  54.400002  184.899994   \n",
       "2018-01-05  186.899994  54.599998  184.929993  54.700001  185.589996   \n",
       "2018-01-08  188.899994  55.081001  186.330002  55.111500  187.199997   \n",
       "\n",
       "              Volume            \n",
       "                GOOG      META  \n",
       "Date                            \n",
       "2018-01-02  24752000  18151900  \n",
       "2018-01-03  28604000  16886600  \n",
       "2018-01-04  20092000  13880900  \n",
       "2018-01-05  25582000  13574500  \n",
       "2018-01-08  20952000  17994700  "
      ]
     },
     "execution_count": 10,
     "metadata": {},
     "output_type": "execute_result"
    }
   ],
   "source": [
    "df = yf.download(RISKY_ASSETS, start=START_DATE, \n",
    "                 end=END_DATE, adjusted=True)\n",
    "print(f'Downloaded {df.shape[0]} rows of data.')\n",
    "\n",
    "df.head()"
   ]
  },
  {
   "cell_type": "code",
   "execution_count": 11,
   "metadata": {},
   "outputs": [
    {
     "data": {
      "image/png": "[encoded data removed]",
      "text/plain": [
       "<Figure size 432x288 with 1 Axes>"
      ]
     },
     "metadata": {
      "needs_background": "light"
     },
     "output_type": "display_data"
    },
    {
     "name": "stdout",
     "output_type": "stream",
     "text": [
      "Correlation between returns: 0.62\n"
     ]
    }
   ],
   "source": [
    "# Calculate daily returns\n",
    "\n",
    "adj_close = df['Adj Close']\n",
    "returns = adj_close.pct_change().dropna()\n",
    "plot_title = f'{\" vs. \".join(RISKY_ASSETS)} returns: {START_DATE} - {END_DATE}'\n",
    "returns.plot(title=plot_title)\n",
    "\n",
    "plt.tight_layout()\n",
    "plt.show()\n",
    "\n",
    "print(f'Correlation between returns: {returns.corr().values[0,1]:.2f}')"
   ]
  },
  {
   "cell_type": "code",
   "execution_count": 12,
   "metadata": {},
   "outputs": [
    {
     "data": {
      "text/html": [
       "<div>\n",
       "<style scoped>\n",
       "    .dataframe tbody tr th:only-of-type {\n",
       "        vertical-align: middle;\n",
       "    }\n",
       "\n",
       "    .dataframe tbody tr th {\n",
       "        vertical-align: top;\n",
       "    }\n",
       "\n",
       "    .dataframe thead th {\n",
       "        text-align: right;\n",
       "    }\n",
       "</style>\n",
       "<table border=\"1\" class=\"dataframe\">\n",
       "  <thead>\n",
       "    <tr style=\"text-align: right;\">\n",
       "      <th></th>\n",
       "      <th>GOOG</th>\n",
       "      <th>META</th>\n",
       "    </tr>\n",
       "  </thead>\n",
       "  <tbody>\n",
       "    <tr>\n",
       "      <th>GOOG</th>\n",
       "      <td>0.000315</td>\n",
       "      <td>0.000265</td>\n",
       "    </tr>\n",
       "    <tr>\n",
       "      <th>META</th>\n",
       "      <td>0.000265</td>\n",
       "      <td>0.000575</td>\n",
       "    </tr>\n",
       "  </tbody>\n",
       "</table>\n",
       "</div>"
      ],
      "text/plain": [
       "          GOOG      META\n",
       "GOOG  0.000315  0.000265\n",
       "META  0.000265  0.000575"
      ]
     },
     "execution_count": 12,
     "metadata": {},
     "output_type": "execute_result"
    }
   ],
   "source": [
    "# Calculate covariance matrix\n",
    "\n",
    "cov_mat = returns.cov()\n",
    "cov_mat"
   ]
  },
  {
   "cell_type": "code",
   "execution_count": 13,
   "metadata": {},
   "outputs": [
    {
     "data": {
      "text/plain": [
       "array([[0.0177591 , 0.        ],\n",
       "       [0.0149283 , 0.01876435]])"
      ]
     },
     "execution_count": 13,
     "metadata": {},
     "output_type": "execute_result"
    }
   ],
   "source": [
    "# Perform the Cholesky decomposition of the covariance matrix\n",
    "\n",
    "chol_mat = np.linalg.cholesky(cov_mat)\n",
    "chol_mat"
   ]
  },
  {
   "cell_type": "code",
   "execution_count": 14,
   "metadata": {},
   "outputs": [],
   "source": [
    "# Draw correlated random numbers from Standard Normal distribution\n",
    "\n",
    "rv = np.random.normal(size=(N_SIMS, len(RISKY_ASSETS)))\n",
    "correlated_rv = np.transpose(np.matmul(chol_mat, np.transpose(rv)))"
   ]
  },
  {
   "cell_type": "code",
   "execution_count": 15,
   "metadata": {},
   "outputs": [],
   "source": [
    "# Define metrics used for simulations\n",
    "\n",
    "r = np.mean(returns, axis=0).values\n",
    "sigma = np.std(returns, axis=0).values\n",
    "S_0 = adj_close.values[-1, :]\n",
    "P_0 = np.sum(SHARES * S_0)"
   ]
  },
  {
   "cell_type": "code",
   "execution_count": 16,
   "metadata": {},
   "outputs": [],
   "source": [
    "# Calculate the terminal price of the considered stocks\n",
    "\n",
    "S_T = S_0 * np.exp((r - 0.5 * sigma ** 2) * T + \n",
    "                   sigma * np.sqrt(T) * correlated_rv)"
   ]
  },
  {
   "cell_type": "code",
   "execution_count": 17,
   "metadata": {},
   "outputs": [],
   "source": [
    "# Calculate the terminal portfolio value and calculate the portfolio returns\n",
    "\n",
    "P_T = np.sum(SHARES * S_T, axis=1)\n",
    "P_diff = P_T - P_0"
   ]
  },
  {
   "cell_type": "code",
   "execution_count": 18,
   "metadata": {},
   "outputs": [
    {
     "name": "stdout",
     "output_type": "stream",
     "text": [
      "1-day VaR with 99.99% confidence: 2.44$\n",
      "1-day VaR with 99.9% confidence: 2.18$\n",
      "1-day VaR with 99.0% confidence: 1.86$\n"
     ]
    }
   ],
   "source": [
    "# Calculate VaR\n",
    "\n",
    "P_diff_sorted = np.sort(P_diff)\n",
    "percentiles = [0.01, 0.1, 1.]\n",
    "var = np.percentile(P_diff_sorted, percentiles)\n",
    "\n",
    "for x, y in zip(percentiles, var):\n",
    "    print(f'1-day VaR with {100-x}% confidence: {-y:.2f}$')"
   ]
  },
  {
   "cell_type": "code",
   "execution_count": 20,
   "metadata": {},
   "outputs": [
    {
     "data": {
      "image/png": "[encoded data removed]",
      "text/plain": [
       "<Figure size 432x288 with 1 Axes>"
      ]
     },
     "metadata": {
      "needs_background": "light"
     },
     "output_type": "display_data"
    }
   ],
   "source": [
    "ax = sns.distplot(P_diff, kde=False)\n",
    "ax.set_title('''Distribution of possible 1-day changes in portfolio value \n",
    "             1-day 99% VaR''', fontsize=16)\n",
    "ax.axvline(var[2], 0, 10000)\n",
    "\n",
    "plt.tight_layout()\n",
    "plt.show()"
   ]
  },
  {
   "cell_type": "code",
   "execution_count": 21,
   "metadata": {},
   "outputs": [
    {
     "name": "stdout",
     "output_type": "stream",
     "text": [
      "The 1-day 95% VaR is 1.56$, and the accompanying Expected Shortfall is 1.75$.\n"
     ]
    }
   ],
   "source": [
    "var = np.percentile(P_diff_sorted, 5)\n",
    "expected_shortfall = P_diff_sorted[P_diff_sorted<=var].mean()\n",
    "\n",
    "print(f'The 1-day 95% VaR is {-var:.2f}$, and the accompanying Expected Shortfall is {-expected_shortfall:.2f}$.')"
   ]
  },
  {
   "cell_type": "code",
   "execution_count": null,
   "metadata": {},
   "outputs": [],
   "source": []
  },
  {
   "cell_type": "code",
   "execution_count": null,
   "metadata": {},
   "outputs": [],
   "source": []
  }
 ],
 "metadata": {
  "kernelspec": {
   "display_name": "Python 3.9.13 64-bit",
   "language": "python",
   "name": "python3"
  },
  "language_info": {
   "codemirror_mode": {
    "name": "ipython",
    "version": 3
   },
   "file_extension": ".py",
   "mimetype": "text/x-python",
   "name": "python",
   "nbconvert_exporter": "python",
   "pygments_lexer": "ipython3",
   "version": "3.9.13"
  },
  "orig_nbformat": 4,
  "vscode": {
   "interpreter": {
    "hash": "b4a8b50c5c4d3442585e6352feb54c9dc62da69ebaa61e6ac5088be6d4da046c"
   }
  }
 },
 "nbformat": 4,
 "nbformat_minor": 2
}

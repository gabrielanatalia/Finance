{
 "cells": [
  {
   "cell_type": "markdown",
   "metadata": {},
   "source": [
    "# Pricing European Options"
   ]
  },
  {
   "cell_type": "markdown",
   "metadata": {},
   "source": [
    "A European call/put option gives us the right (but again, no obligation) to buy/sell a certain asset on a certain expiry date (commonly denoted as T).\n",
    "\n",
    "To price options using Monte Carlo simulations, we use risk-neutral valuation, under which the fair value of a derivative is the expected value of its future payoff(s). In other\n",
    "words, we assume that the option premium grows at the same rate as the risk-free rate, which we use for discounting to the present value. For each of the simulated paths, we\n",
    "calculate the option's payoff at maturity, take the average of all the paths, and discount it to the present value."
   ]
  },
  {
   "cell_type": "code",
   "execution_count": 1,
   "metadata": {},
   "outputs": [],
   "source": [
    "import numpy as np\n",
    "from scipy.stats import norm"
   ]
  },
  {
   "cell_type": "markdown",
   "metadata": {},
   "source": [
    "- S_0: Initial stock price\n",
    "- K: Strike price, that is, the one we can buy/sell for at maturity\n",
    "- r: Annual risk-free rate\n",
    "- sigma: Underlying stock volatility (annualized)\n",
    "- T: Time until maturity in years\n",
    "- N: Number of time increments for simulations\n",
    "- n_sims: Number of simulated sample paths\n",
    "- discount_factor: Discount factor, which is used to calculate the present value of the future payoff"
   ]
  },
  {
   "cell_type": "code",
   "execution_count": 3,
   "metadata": {},
   "outputs": [],
   "source": [
    "S_0 = 100\n",
    "K = 100\n",
    "r = 0.05\n",
    "sigma = 0.50\n",
    "T = 1 # 1 year\n",
    "N = 252 # 252 days in a year\n",
    "dt = T / N # time step\n",
    "N_SIMS = 1000000 # number of simulations \n",
    "discount_factor = np.exp(-r * T)"
   ]
  },
  {
   "cell_type": "code",
   "execution_count": 5,
   "metadata": {},
   "outputs": [],
   "source": [
    "def simulate_gbm(s_0, mu, sigma, n_sims, T, N, random_seed=42, antithetic_var=False):\n",
    "    '''\n",
    "    Function used for simulating stock returns using Geometric Brownian Motion.\n",
    "    \n",
    "    Parameters\n",
    "    ----------\n",
    "    s_0 : float\n",
    "        Initial stock price\n",
    "    mu : float\n",
    "        Drift coefficient\n",
    "    sigma : float\n",
    "        Diffusion coefficient\n",
    "    n_sims : int\n",
    "        Number of simulations paths\n",
    "    dt : float\n",
    "        Time increment, most commonly a day\n",
    "    T : float\n",
    "        Length of the forecast horizon, same unit as dt\n",
    "    N : int\n",
    "        Number of time increments in the forecast horizon\n",
    "    random_seed : int\n",
    "        Random seed for reproducibility\n",
    "    antithetic_var : bool\n",
    "        Boolean whether to use antithetic variates approach to reduce variance\n",
    "\n",
    "    Returns\n",
    "    -------\n",
    "    S_t : np.ndarray\n",
    "        Matrix (size: n_sims x (T+1)) containing the simulation results. \n",
    "        Rows respresent sample paths, while columns point of time.\n",
    "    '''\n",
    "\n",
    "    np.random.seed(random_seed)\n",
    "\n",
    "    # time increment\n",
    "    dt = T/N\n",
    "\n",
    "    # Brownian\n",
    "    if antithetic_var:\n",
    "        dW_ant = np.random.normal(scale=np.sqrt(dt),\n",
    "                                  size=(int(n_sims/2), N + 1))\n",
    "        dW = np.concatenate((dW_ant, -dW_ant), axis=0)\n",
    "    else:\n",
    "        dW = np.random.normal(scale=np.sqrt(dt),\n",
    "                              size=(n_sims, N + 1))\n",
    "\n",
    "    # simulate the evolution of the process\n",
    "    S_t = s_0 * np.exp(np.cumsum((mu - 0.5 * sigma ** 2) * dt + sigma * dW,\n",
    "                                 axis=1))\n",
    "    S_t[:, 0] = s_0\n",
    "\n",
    "    return S_t\n"
   ]
  },
  {
   "cell_type": "code",
   "execution_count": 4,
   "metadata": {},
   "outputs": [],
   "source": [
    "def black_scholes_analytical(S_0, K, T, r, sigma, type='call'):\n",
    "    '''\n",
    "    Function used for calculating the price of European options using the analytical form of the Black-Scholes model.\n",
    "    \n",
    "    Parameters\n",
    "    ------------\n",
    "    s_0 : float\n",
    "        Initial stock price\n",
    "    K : float\n",
    "        Strike price\n",
    "    T : float\n",
    "        Time to maturity in years\n",
    "    r : float\n",
    "        Annualized risk-free rate\n",
    "    sigma : float\n",
    "        Standard deviation of the stock returns\n",
    "    type : str\n",
    "        Type of the option. Allowable: ['call', 'put']\n",
    "    \n",
    "    Returns\n",
    "    -----------\n",
    "    option_premium : float\n",
    "        The premium on the option calculated using the Black-Scholes model\n",
    "    '''\n",
    "    \n",
    "    d1 = (np.log(S_0 / K) + (r + 0.5 * sigma ** 2) * T) / (sigma * np.sqrt(T))\n",
    "    d2 = (np.log(S_0 / K) + (r - 0.5 * sigma ** 2) * T) / (sigma * np.sqrt(T))\n",
    "    \n",
    "    if type == 'call':\n",
    "        val = (S_0 * norm.cdf(d1, 0, 1) - K * np.exp(-r * T) * norm.cdf(d2, 0, 1))\n",
    "    elif type == 'put':\n",
    "        val = (K * np.exp(-r * T) * norm.cdf(-d2, 0, 1) - S_0 * norm.cdf(-d1, 0, 1))\n",
    "    else:\n",
    "        raise ValueError('Wrong input for type!')\n",
    "        \n",
    "    return val"
   ]
  },
  {
   "cell_type": "code",
   "execution_count": 6,
   "metadata": {},
   "outputs": [
    {
     "data": {
      "text/plain": [
       "21.79260421286685"
      ]
     },
     "execution_count": 6,
     "metadata": {},
     "output_type": "execute_result"
    }
   ],
   "source": [
    "# Valuate the call option using the specified parameters\n",
    "\n",
    "black_scholes_analytical(S_0=S_0, K=K, T=T, r=r, sigma=sigma, type='call')"
   ]
  },
  {
   "cell_type": "code",
   "execution_count": 7,
   "metadata": {},
   "outputs": [],
   "source": [
    "# Simulate the stock path using GBM\n",
    "\n",
    "gbm_sims = simulate_gbm(s_0=S_0, mu=r, sigma=sigma, \n",
    "                       n_sims=N_SIMS, T=T, N=N)"
   ]
  },
  {
   "cell_type": "code",
   "execution_count": 8,
   "metadata": {},
   "outputs": [
    {
     "data": {
      "text/plain": [
       "21.756178586245806"
      ]
     },
     "execution_count": 8,
     "metadata": {},
     "output_type": "execute_result"
    }
   ],
   "source": [
    "# Calculate option premium\n",
    "\n",
    "premium = discount_factor * np.mean(np.maximum(0, gbm_sims[:, -1] - K))\n",
    "premium"
   ]
  },
  {
   "cell_type": "markdown",
   "metadata": {},
   "source": [
    "We can make the calculations faster, as in the case of European options we are only interested in the terminal stock price. The intermediate\n",
    "steps do not matter. That is why we only need to simulate the price at time T and use these values to calculate the expected payoff."
   ]
  },
  {
   "cell_type": "code",
   "execution_count": 9,
   "metadata": {},
   "outputs": [
    {
     "data": {
      "text/plain": [
       "16.915546662938254"
      ]
     },
     "execution_count": 9,
     "metadata": {},
     "output_type": "execute_result"
    }
   ],
   "source": [
    "black_scholes_analytical(S_0=S_0, K=K, T=T, r=r, sigma=sigma, type='put')"
   ]
  },
  {
   "cell_type": "code",
   "execution_count": 10,
   "metadata": {},
   "outputs": [],
   "source": [
    "def european_option_simulation(S_0, K, T, r, sigma, n_sims, type='call', random_seed=42):\n",
    "    '''\n",
    "    Function used for calculating the price of European options using Monte Carlo simulations.\n",
    "    \n",
    "    Parameters\n",
    "    ------------\n",
    "    S_0 : float\n",
    "        Initial stock price\n",
    "    K : float\n",
    "        Strike price\n",
    "    T : float\n",
    "        Time to maturity in years\n",
    "    r : float\n",
    "        Annualized risk-free rate\n",
    "    sigma : float\n",
    "        Standard deviation of the stock returns\n",
    "    n_sims : int\n",
    "        Number of paths to simulate\n",
    "    type : str\n",
    "        Type of the option. Allowable: ['call', 'put']\n",
    "    random_seed : int\n",
    "        Random seed for reproducibility\n",
    "        \n",
    "    Returns\n",
    "    -----------\n",
    "    option_premium : float\n",
    "        The premium on the option calculated using Monte Carlo simulations\n",
    "    '''\n",
    "    np.random.seed(random_seed)\n",
    "    rv = np.random.normal(0, 1, size=n_sims)\n",
    "    S_T = S_0 * np.exp((r - 0.5 * sigma**2) * T + sigma * np.sqrt(T) * rv)\n",
    "\n",
    "    if type == 'call':\n",
    "        payoff = np.maximum(0, S_T - K)\n",
    "    elif type == 'put':\n",
    "        payoff = np.maximum(0, K - S_T)\n",
    "    else: \n",
    "        raise ValueError('Wrong input for type!')\n",
    "        \n",
    "    premium = np.mean(payoff) * np.exp(-r * T)\n",
    "    return premium"
   ]
  },
  {
   "cell_type": "code",
   "execution_count": 11,
   "metadata": {},
   "outputs": [
    {
     "data": {
      "text/plain": [
       "16.948225203893127"
      ]
     },
     "execution_count": 11,
     "metadata": {},
     "output_type": "execute_result"
    }
   ],
   "source": [
    "european_option_simulation(S_0, K, T, r, sigma, N_SIMS, type='put')"
   ]
  },
  {
   "cell_type": "code",
   "execution_count": null,
   "metadata": {},
   "outputs": [],
   "source": []
  },
  {
   "cell_type": "code",
   "execution_count": null,
   "metadata": {},
   "outputs": [],
   "source": []
  }
 ],
 "metadata": {
  "kernelspec": {
   "display_name": "Python 3.9.13 64-bit",
   "language": "python",
   "name": "python3"
  },
  "language_info": {
   "codemirror_mode": {
    "name": "ipython",
    "version": 3
   },
   "file_extension": ".py",
   "mimetype": "text/x-python",
   "name": "python",
   "nbconvert_exporter": "python",
   "pygments_lexer": "ipython3",
   "version": "3.9.13"
  },
  "orig_nbformat": 4,
  "vscode": {
   "interpreter": {
    "hash": "b4a8b50c5c4d3442585e6352feb54c9dc62da69ebaa61e6ac5088be6d4da046c"
   }
  }
 },
 "nbformat": 4,
 "nbformat_minor": 2
}

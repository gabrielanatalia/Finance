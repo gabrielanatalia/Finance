{
 "cells": [
  {
   "cell_type": "markdown",
   "metadata": {},
   "source": [
    "# Four and Five-Factor Models"
   ]
  },
  {
   "cell_type": "markdown",
   "metadata": {},
   "source": [
    "Carhart's Four-Factor model: The underlying assumption of this extension is that, within a short period of time, a winner stock will remain a winner, while a loser will remain a loser.\n",
    "An example of a criterion for classifying winners and losers could be the last 12-month cumulative total returns. After identifying the two groups, we long the winners and short\n",
    "the losers within a certain holding period. The momentum factor (WML; Winners Minus Losers) measures the excess returns of the winner stocks over the loser stocks in the past 12 months"
   ]
  },
  {
   "cell_type": "markdown",
   "metadata": {},
   "source": [
    "Fama-French's Five-Factor model: Fama and French expanded their three-factor model by adding two factors:\n",
    "1. Robust Minus Weak (RMW) measures the excess returns of companies with high profit margins (robust profitability) over those with lower profits (weak profitability).\n",
    "2. Conservative Minus Aggressive (CMA) measures the excess returns of firms with low investment policies (conservative) over those investing more (aggressive)."
   ]
  },
  {
   "cell_type": "code",
   "execution_count": 16,
   "metadata": {},
   "outputs": [],
   "source": [
    "import pandas as pd\n",
    "import yfinance as yf\n",
    "import statsmodels.formula.api as smf\n",
    "import pandas_datareader.data as web\n",
    "import numpy as np"
   ]
  },
  {
   "cell_type": "code",
   "execution_count": 6,
   "metadata": {},
   "outputs": [],
   "source": [
    "RISKY_ASSET = 'AMZN'\n",
    "START_DATE = '2013-12-31'\n",
    "END_DATE = '2018-12-31'"
   ]
  },
  {
   "cell_type": "code",
   "execution_count": 7,
   "metadata": {},
   "outputs": [],
   "source": [
    "# Download the risk factors from prof. French's website:\n",
    "\n",
    "# three factors \n",
    "df_three_factor = web.DataReader('F-F_Research_Data_Factors', 'famafrench', \n",
    "                                 start=START_DATE)[0]\n",
    "df_three_factor.index = df_three_factor.index.format()\n",
    "\n",
    "# momentum factor\n",
    "df_mom = web.DataReader('F-F_Momentum_Factor', 'famafrench', \n",
    "                        start=START_DATE)[0]\n",
    "df_mom.index = df_mom.index.format()\n",
    "\n",
    "# five factors\n",
    "df_five_factor = web.DataReader('F-F_Research_Data_5_Factors_2x3', \n",
    "                                'famafrench', \n",
    "                                start=START_DATE)[0]\n",
    "df_five_factor.index = df_five_factor.index.format()"
   ]
  },
  {
   "cell_type": "code",
   "execution_count": 8,
   "metadata": {},
   "outputs": [
    {
     "name": "stdout",
     "output_type": "stream",
     "text": [
      "Downloaded 1259 rows of data.\n"
     ]
    }
   ],
   "source": [
    "asset_df = yf.download(RISKY_ASSET,\n",
    "                       start=START_DATE,\n",
    "                       end=END_DATE,\n",
    "                       adjusted=True,\n",
    "                       progress=False)\n",
    "\n",
    "print(f'Downloaded {asset_df.shape[0]} rows of data.')"
   ]
  },
  {
   "cell_type": "code",
   "execution_count": 9,
   "metadata": {},
   "outputs": [],
   "source": [
    "# Calculate monthly returns\n",
    "\n",
    "y = asset_df['Adj Close'].resample('M') \\\n",
    "                         .last() \\\n",
    "                         .pct_change() \\\n",
    "                         .dropna()\n",
    "\n",
    "y.index = y.index.strftime('%Y-%m')\n",
    "y.name = 'return'"
   ]
  },
  {
   "cell_type": "code",
   "execution_count": 25,
   "metadata": {},
   "outputs": [
    {
     "data": {
      "text/html": [
       "<div>\n",
       "<style scoped>\n",
       "    .dataframe tbody tr th:only-of-type {\n",
       "        vertical-align: middle;\n",
       "    }\n",
       "\n",
       "    .dataframe tbody tr th {\n",
       "        vertical-align: top;\n",
       "    }\n",
       "\n",
       "    .dataframe thead th {\n",
       "        text-align: right;\n",
       "    }\n",
       "</style>\n",
       "<table border=\"1\" class=\"dataframe\">\n",
       "  <thead>\n",
       "    <tr style=\"text-align: right;\">\n",
       "      <th></th>\n",
       "      <th>mkt</th>\n",
       "      <th>smb</th>\n",
       "      <th>hml</th>\n",
       "      <th>rf</th>\n",
       "      <th>mom</th>\n",
       "      <th>rtn</th>\n",
       "      <th>excess_rtn</th>\n",
       "    </tr>\n",
       "  </thead>\n",
       "  <tbody>\n",
       "    <tr>\n",
       "      <th>2014-01</th>\n",
       "      <td>-0.0332</td>\n",
       "      <td>0.0092</td>\n",
       "      <td>-0.0202</td>\n",
       "      <td>0.0</td>\n",
       "      <td>0.0171</td>\n",
       "      <td>-0.100554</td>\n",
       "      <td>-0.100554</td>\n",
       "    </tr>\n",
       "    <tr>\n",
       "      <th>2014-02</th>\n",
       "      <td>0.0465</td>\n",
       "      <td>0.0037</td>\n",
       "      <td>-0.0031</td>\n",
       "      <td>0.0</td>\n",
       "      <td>0.0207</td>\n",
       "      <td>0.009507</td>\n",
       "      <td>0.009507</td>\n",
       "    </tr>\n",
       "    <tr>\n",
       "      <th>2014-03</th>\n",
       "      <td>0.0043</td>\n",
       "      <td>-0.0187</td>\n",
       "      <td>0.0492</td>\n",
       "      <td>0.0</td>\n",
       "      <td>-0.0329</td>\n",
       "      <td>-0.071058</td>\n",
       "      <td>-0.071058</td>\n",
       "    </tr>\n",
       "    <tr>\n",
       "      <th>2014-04</th>\n",
       "      <td>-0.0019</td>\n",
       "      <td>-0.0420</td>\n",
       "      <td>0.0114</td>\n",
       "      <td>0.0</td>\n",
       "      <td>-0.0389</td>\n",
       "      <td>-0.095847</td>\n",
       "      <td>-0.095847</td>\n",
       "    </tr>\n",
       "    <tr>\n",
       "      <th>2014-05</th>\n",
       "      <td>0.0206</td>\n",
       "      <td>-0.0189</td>\n",
       "      <td>-0.0013</td>\n",
       "      <td>0.0</td>\n",
       "      <td>0.0088</td>\n",
       "      <td>0.027685</td>\n",
       "      <td>0.027685</td>\n",
       "    </tr>\n",
       "  </tbody>\n",
       "</table>\n",
       "</div>"
      ],
      "text/plain": [
       "            mkt     smb     hml   rf     mom       rtn  excess_rtn\n",
       "2014-01 -0.0332  0.0092 -0.0202  0.0  0.0171 -0.100554   -0.100554\n",
       "2014-02  0.0465  0.0037 -0.0031  0.0  0.0207  0.009507    0.009507\n",
       "2014-03  0.0043 -0.0187  0.0492  0.0 -0.0329 -0.071058   -0.071058\n",
       "2014-04 -0.0019 -0.0420  0.0114  0.0 -0.0389 -0.095847   -0.095847\n",
       "2014-05  0.0206 -0.0189 -0.0013  0.0  0.0088  0.027685    0.027685"
      ]
     },
     "execution_count": 25,
     "metadata": {},
     "output_type": "execute_result"
    }
   ],
   "source": [
    "# Merge the datasets for the four-factor models\n",
    "\n",
    "# join all datasets on the index\n",
    "four_factor_data = df_three_factor.join(df_mom).join(y)\n",
    "\n",
    "# rename columns\n",
    "four_factor_data.columns = ['mkt', 'smb', 'hml', 'rf', 'mom', 'rtn']\n",
    "\n",
    "# divide everything (except returns) by 100\n",
    "four_factor_data.loc[:, four_factor_data.columns != 'rtn'] /= 100\n",
    "\n",
    "# convert index to datetime\n",
    "# four_factor_data.index = pd.to_datetime(four_factor_data.index, format='%Y-%m')\n",
    "\n",
    "# select period of interest\n",
    "four_factor_data = four_factor_data.loc[START_DATE:END_DATE]\n",
    "\n",
    "# calculate excess returns\n",
    "four_factor_data['excess_rtn'] = four_factor_data.rtn - four_factor_data.rf\n",
    "\n",
    "four_factor_data.head()"
   ]
  },
  {
   "cell_type": "code",
   "execution_count": 27,
   "metadata": {},
   "outputs": [
    {
     "data": {
      "text/html": [
       "<div>\n",
       "<style scoped>\n",
       "    .dataframe tbody tr th:only-of-type {\n",
       "        vertical-align: middle;\n",
       "    }\n",
       "\n",
       "    .dataframe tbody tr th {\n",
       "        vertical-align: top;\n",
       "    }\n",
       "\n",
       "    .dataframe thead th {\n",
       "        text-align: right;\n",
       "    }\n",
       "</style>\n",
       "<table border=\"1\" class=\"dataframe\">\n",
       "  <thead>\n",
       "    <tr style=\"text-align: right;\">\n",
       "      <th></th>\n",
       "      <th>mkt</th>\n",
       "      <th>smb</th>\n",
       "      <th>hml</th>\n",
       "      <th>rmw</th>\n",
       "      <th>cma</th>\n",
       "      <th>rf</th>\n",
       "      <th>rtn</th>\n",
       "      <th>excess_rtn</th>\n",
       "    </tr>\n",
       "  </thead>\n",
       "  <tbody>\n",
       "    <tr>\n",
       "      <th>2014-01</th>\n",
       "      <td>-0.0332</td>\n",
       "      <td>0.0059</td>\n",
       "      <td>-0.0202</td>\n",
       "      <td>-0.0388</td>\n",
       "      <td>-0.0143</td>\n",
       "      <td>0.0</td>\n",
       "      <td>-0.100554</td>\n",
       "      <td>-0.100554</td>\n",
       "    </tr>\n",
       "    <tr>\n",
       "      <th>2014-02</th>\n",
       "      <td>0.0465</td>\n",
       "      <td>0.0016</td>\n",
       "      <td>-0.0031</td>\n",
       "      <td>-0.0023</td>\n",
       "      <td>-0.0048</td>\n",
       "      <td>0.0</td>\n",
       "      <td>0.009507</td>\n",
       "      <td>0.009507</td>\n",
       "    </tr>\n",
       "    <tr>\n",
       "      <th>2014-03</th>\n",
       "      <td>0.0043</td>\n",
       "      <td>-0.0113</td>\n",
       "      <td>0.0492</td>\n",
       "      <td>0.0211</td>\n",
       "      <td>0.0198</td>\n",
       "      <td>0.0</td>\n",
       "      <td>-0.071058</td>\n",
       "      <td>-0.071058</td>\n",
       "    </tr>\n",
       "    <tr>\n",
       "      <th>2014-04</th>\n",
       "      <td>-0.0019</td>\n",
       "      <td>-0.0413</td>\n",
       "      <td>0.0114</td>\n",
       "      <td>0.0345</td>\n",
       "      <td>0.0103</td>\n",
       "      <td>0.0</td>\n",
       "      <td>-0.095847</td>\n",
       "      <td>-0.095847</td>\n",
       "    </tr>\n",
       "    <tr>\n",
       "      <th>2014-05</th>\n",
       "      <td>0.0206</td>\n",
       "      <td>-0.0189</td>\n",
       "      <td>-0.0013</td>\n",
       "      <td>0.0005</td>\n",
       "      <td>-0.0101</td>\n",
       "      <td>0.0</td>\n",
       "      <td>0.027685</td>\n",
       "      <td>0.027685</td>\n",
       "    </tr>\n",
       "  </tbody>\n",
       "</table>\n",
       "</div>"
      ],
      "text/plain": [
       "            mkt     smb     hml     rmw     cma   rf       rtn  excess_rtn\n",
       "2014-01 -0.0332  0.0059 -0.0202 -0.0388 -0.0143  0.0 -0.100554   -0.100554\n",
       "2014-02  0.0465  0.0016 -0.0031 -0.0023 -0.0048  0.0  0.009507    0.009507\n",
       "2014-03  0.0043 -0.0113  0.0492  0.0211  0.0198  0.0 -0.071058   -0.071058\n",
       "2014-04 -0.0019 -0.0413  0.0114  0.0345  0.0103  0.0 -0.095847   -0.095847\n",
       "2014-05  0.0206 -0.0189 -0.0013  0.0005 -0.0101  0.0  0.027685    0.027685"
      ]
     },
     "execution_count": 27,
     "metadata": {},
     "output_type": "execute_result"
    }
   ],
   "source": [
    "# Merge the datasets for the five-factor models\n",
    "\n",
    "# join all datasets on the index\n",
    "five_factor_data = df_five_factor.join(y)\n",
    "\n",
    "# rename columns\n",
    "five_factor_data.columns = ['mkt', 'smb', 'hml', 'rmw', 'cma', 'rf', 'rtn']\n",
    "\n",
    "# divide everything (except returns) by 100\n",
    "five_factor_data.loc[:, five_factor_data.columns != 'rtn'] /= 100\n",
    "\n",
    "# select period of interest\n",
    "five_factor_data = five_factor_data.loc[START_DATE:END_DATE]\n",
    "\n",
    "# calculate excess returns\n",
    "five_factor_data['excess_rtn'] = five_factor_data.rtn - five_factor_data.rf\n",
    "\n",
    "five_factor_data.head()"
   ]
  },
  {
   "cell_type": "code",
   "execution_count": 28,
   "metadata": {},
   "outputs": [
    {
     "name": "stdout",
     "output_type": "stream",
     "text": [
      "                            OLS Regression Results                            \n",
      "==============================================================================\n",
      "Dep. Variable:             excess_rtn   R-squared:                       0.553\n",
      "Model:                            OLS   Adj. R-squared:                  0.520\n",
      "Method:                 Least Squares   F-statistic:                     16.99\n",
      "Date:                Tue, 16 Aug 2022   Prob (F-statistic):           4.00e-09\n",
      "Time:                        15:46:29   Log-Likelihood:                 86.454\n",
      "No. Observations:                  60   AIC:                            -162.9\n",
      "Df Residuals:                      55   BIC:                            -152.4\n",
      "Df Model:                           4                                         \n",
      "Covariance Type:            nonrobust                                         \n",
      "==============================================================================\n",
      "                 coef    std err          t      P>|t|      [0.025      0.975]\n",
      "------------------------------------------------------------------------------\n",
      "Intercept      0.0093      0.008      1.158      0.252      -0.007       0.025\n",
      "mkt            1.7345      0.255      6.815      0.000       1.224       2.245\n",
      "smb           -0.5549      0.313     -1.775      0.081      -1.181       0.071\n",
      "hml           -1.0266      0.386     -2.657      0.010      -1.801      -0.252\n",
      "mom            0.3935      0.295      1.336      0.187      -0.197       0.984\n",
      "==============================================================================\n",
      "Omnibus:                        5.304   Durbin-Watson:                   1.708\n",
      "Prob(Omnibus):                  0.071   Jarque-Bera (JB):                4.845\n",
      "Skew:                           0.695   Prob(JB):                       0.0887\n",
      "Kurtosis:                       3.069   Cond. No.                         57.0\n",
      "==============================================================================\n",
      "\n",
      "Notes:\n",
      "[1] Standard Errors assume that the covariance matrix of the errors is correctly specified.\n"
     ]
    }
   ],
   "source": [
    "# Estimate the four-factor model\n",
    "\n",
    "four_factor_model = smf.ols(formula='excess_rtn ~ mkt + smb + hml + mom', \n",
    "                            data=four_factor_data).fit()\n",
    "\n",
    "print(four_factor_model.summary())"
   ]
  },
  {
   "cell_type": "code",
   "execution_count": 29,
   "metadata": {},
   "outputs": [
    {
     "name": "stdout",
     "output_type": "stream",
     "text": [
      "                            OLS Regression Results                            \n",
      "==============================================================================\n",
      "Dep. Variable:             excess_rtn   R-squared:                       0.598\n",
      "Model:                            OLS   Adj. R-squared:                  0.561\n",
      "Method:                 Least Squares   F-statistic:                     16.05\n",
      "Date:                Tue, 16 Aug 2022   Prob (F-statistic):           1.13e-09\n",
      "Time:                        15:46:32   Log-Likelihood:                 89.647\n",
      "No. Observations:                  60   AIC:                            -167.3\n",
      "Df Residuals:                      54   BIC:                            -154.7\n",
      "Df Model:                           5                                         \n",
      "Covariance Type:            nonrobust                                         \n",
      "==============================================================================\n",
      "                 coef    std err          t      P>|t|      [0.025      0.975]\n",
      "------------------------------------------------------------------------------\n",
      "Intercept      0.0099      0.008      1.296      0.201      -0.005       0.025\n",
      "mkt            1.5404      0.245      6.290      0.000       1.049       2.031\n",
      "smb           -0.7960      0.341     -2.335      0.023      -1.479      -0.113\n",
      "hml           -0.6034      0.416     -1.450      0.153      -1.438       0.231\n",
      "rmw           -0.7221      0.559     -1.292      0.202      -1.842       0.398\n",
      "cma           -1.4268      0.679     -2.101      0.040      -2.788      -0.065\n",
      "==============================================================================\n",
      "Omnibus:                        1.746   Durbin-Watson:                   1.727\n",
      "Prob(Omnibus):                  0.418   Jarque-Bera (JB):                1.376\n",
      "Skew:                           0.371   Prob(JB):                        0.502\n",
      "Kurtosis:                       3.003   Cond. No.                         103.\n",
      "==============================================================================\n",
      "\n",
      "Notes:\n",
      "[1] Standard Errors assume that the covariance matrix of the errors is correctly specified.\n"
     ]
    }
   ],
   "source": [
    "# Estimate the five-factor model\n",
    "\n",
    "five_factor_model = smf.ols(\n",
    "    formula='excess_rtn ~ mkt + smb + hml + rmw + cma', \n",
    "    data=five_factor_data\n",
    ").fit()\n",
    "\n",
    "print(five_factor_model.summary())"
   ]
  },
  {
   "cell_type": "markdown",
   "metadata": {},
   "source": [
    "According to the five-factor model, Amazon's excess returns are negatively\n",
    "exposed to most of the factors (all but the market factor). Here, we present an\n",
    "example of the interpretation of the coefficients: an increase by 1 percentage point\n",
    "in the market factor results in an increase of 0.015 p.p. In other words, for a 1%\n",
    "return by the market factor, we can expect our portfolio (Amazon's stock) to\n",
    "return 1.5508 * 1% in excess of the risk-free rate."
   ]
  }
 ],
 "metadata": {
  "kernelspec": {
   "display_name": "Python 3.9.13 64-bit",
   "language": "python",
   "name": "python3"
  },
  "language_info": {
   "codemirror_mode": {
    "name": "ipython",
    "version": 3
   },
   "file_extension": ".py",
   "mimetype": "text/x-python",
   "name": "python",
   "nbconvert_exporter": "python",
   "pygments_lexer": "ipython3",
   "version": "3.9.13"
  },
  "orig_nbformat": 4,
  "vscode": {
   "interpreter": {
    "hash": "b4a8b50c5c4d3442585e6352feb54c9dc62da69ebaa61e6ac5088be6d4da046c"
   }
  }
 },
 "nbformat": 4,
 "nbformat_minor": 2
}
